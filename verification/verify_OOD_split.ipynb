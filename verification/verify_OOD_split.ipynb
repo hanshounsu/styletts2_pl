{
 "cells": [
  {
   "cell_type": "code",
   "execution_count": 58,
   "metadata": {},
   "outputs": [],
   "source": [
    "from pathlib import Path\n",
    "libritts_path = '/home/hounsu/Dataset/LibriTTS/train-clean-460'\n",
    "libritts_wav = list(Path(libritts_path).rglob('*.wav'))\n",
    "# make dictionary of libritts_wav with key as text, value as 'True'\n",
    "libritts_wav_dict = {}\n",
    "for wav in libritts_wav:\n",
    "    libritts_wav_dict[str(wav)] = 'true'\n",
    "OOD_text_path = '/home/hounsu/voice/StyleTTS2/Data/OOD_texts.txt'\n",
    "with open(OOD_text_path, 'r') as f:\n",
    "    OOD_texts = f.readlines()\n",
    "OOD_texts_wav = [text.split('|')[0] for text in OOD_texts]\n",
    "\n",
    "val_list_path = '/home/hounsu/voice/StyleTTS2/Data/val_list_libritts.txt'\n",
    "with open(val_list_path, 'r') as f:\n",
    "    val_list = f.readlines()\n",
    "val_list = [line.split('|')[0] for line in val_list]"
   ]
  },
  {
   "cell_type": "code",
   "execution_count": 59,
   "metadata": {},
   "outputs": [
    {
     "name": "stdout",
     "output_type": "stream",
     "text": [
      "149736\n",
      "/home/hounsu/Dataset/LibriTTS/train-clean-460/4860/13185/4860_13185_000032_000000.wav true\n"
     ]
    }
   ],
   "source": [
    "# print length of dict\n",
    "print(len(libritts_wav_dict))"
   ]
  },
  {
   "cell_type": "code",
   "execution_count": 60,
   "metadata": {},
   "outputs": [
    {
     "name": "stderr",
     "output_type": "stream",
     "text": [
      "100%|██████████| 141434/141434 [00:02<00:00, 69177.08it/s]\n"
     ]
    }
   ],
   "source": [
    "import os \n",
    "from tqdm import tqdm\n",
    "from collections import deque\n",
    "import numpy as np\n",
    "# dq = deque(libritts_wav)\n",
    "# num_wav = len(libritts_wav)\n",
    "# libritts_wav = np.array(libritts_wav)\n",
    "# libritts_wav = set(libritts_wav)\n",
    "for wav_path in tqdm(OOD_texts_wav):\n",
    "    wav_path = os.path.join(Path(libritts_path).parent.parent, wav_path)\n",
    "    if os.path.exists(wav_path):\n",
    "        # if wav_path in libritts_wav:\n",
    "        # num_wav -= 1\n",
    "        # dq.popleft()\n",
    "        # filtered_list = [x for x in filtered_list if x != wav_path]\n",
    "        # libritts_wav = libritts_wav[libritts_wav != wav_path]\n",
    "        # print(wav_path)\n",
    "        # if wav_path in libritts_wav_dict:\n",
    "        del libritts_wav_dict[str(wav_path)]\n",
    "        # del libritts_wav_dict[str(wav_path)]\n",
    "        # libritts_wav.remove(wav_path)"
   ]
  },
  {
   "cell_type": "code",
   "execution_count": 61,
   "metadata": {},
   "outputs": [
    {
     "name": "stdout",
     "output_type": "stream",
     "text": [
      "8302 141434\n"
     ]
    }
   ],
   "source": [
    "print(len(libritts_wav_dict), len(OOD_texts_wav))"
   ]
  },
  {
   "cell_type": "code",
   "execution_count": 62,
   "metadata": {},
   "outputs": [
    {
     "name": "stderr",
     "output_type": "stream",
     "text": [
      "100%|██████████| 1429/1429 [00:00<00:00, 60021.84it/s]\n"
     ]
    }
   ],
   "source": [
    "for wav_path in tqdm(val_list):\n",
    "    wav_path = os.path.join(Path(libritts_path).parent.parent, wav_path)\n",
    "    if os.path.exists(wav_path):\n",
    "        del libritts_wav_dict[str(wav_path)]"
   ]
  },
  {
   "cell_type": "code",
   "execution_count": 63,
   "metadata": {},
   "outputs": [
    {
     "name": "stdout",
     "output_type": "stream",
     "text": [
      "6873 141434\n"
     ]
    }
   ],
   "source": [
    "print(len(libritts_wav_dict), len(OOD_texts_wav))"
   ]
  },
  {
   "cell_type": "code",
   "execution_count": null,
   "metadata": {},
   "outputs": [],
   "source": []
  }
 ],
 "metadata": {
  "kernelspec": {
   "display_name": "styletts2",
   "language": "python",
   "name": "python3"
  },
  "language_info": {
   "codemirror_mode": {
    "name": "ipython",
    "version": 3
   },
   "file_extension": ".py",
   "mimetype": "text/x-python",
   "name": "python",
   "nbconvert_exporter": "python",
   "pygments_lexer": "ipython3",
   "version": "3.9.21"
  }
 },
 "nbformat": 4,
 "nbformat_minor": 2
}
